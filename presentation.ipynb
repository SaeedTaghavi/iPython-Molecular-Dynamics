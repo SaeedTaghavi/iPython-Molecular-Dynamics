{
 "metadata": {
  "name": "presentation.ipynb"
 },
 "nbformat": 3,
 "nbformat_minor": 0,
 "worksheets": [
  {
   "cells": [
    {
     "cell_type": "markdown",
     "metadata": {},
     "source": [
      "Introduction to iPython\n",
      "=======================\n",
      "\n",
      "* MATLAB / *Mathematica* style interactive IDE\n",
      "* Good for prototyping / verifying new codes\n",
      "* Good for analyzing output from HPC codes\n",
      "  * Easy plots & charts\n",
      "  * Basic stats and data management capabilities"
     ]
    },
    {
     "cell_type": "code",
     "collapsed": false,
     "input": [
      "x = linspace(-10, 10., 1000)\n",
      "plot(x, sin(x))"
     ],
     "language": "python",
     "metadata": {},
     "outputs": []
    },
    {
     "cell_type": "code",
     "collapsed": false,
     "input": [
      "bins = [n/10.0 for n in range(0,11)]\n",
      "hist(rand(100),bins);"
     ],
     "language": "python",
     "metadata": {},
     "outputs": []
    },
    {
     "cell_type": "markdown",
     "metadata": {},
     "source": [
      "# Setup\n",
      "\n",
      "* All-in-one Distributions are easiest:\n",
      "    * Canopy by Enthought (Good for OS X)\n",
      "    * Linux distros, check repo for iPython"
     ]
    },
    {
     "cell_type": "markdown",
     "metadata": {},
     "source": [
      "# Notebooks\n",
      "\n",
      "* Cell-based programming makes learning easy\n",
      "* Distribute content to students / colleagues easily\n",
      "* Display graphics and results inline\n",
      "* Supports [Markdown](http://daringfireball.net/projects/markdown/) for text styling\n",
      "* Notebooks are just JSON documents!"
     ]
    },
    {
     "cell_type": "code",
     "collapsed": false,
     "input": [
      "import json\n",
      "notebook = json.load(open(\"/Users/rf9/Projects/iPython-Molecular-Dynamics/presentation.ipynb\"))\n",
      "notebook[\"worksheets\"][0][\"cells\"][4]"
     ],
     "language": "python",
     "metadata": {},
     "outputs": [
      {
       "output_type": "pyout",
       "prompt_number": 59,
       "text": [
        "{u'cell_type': u'markdown',\n",
        " u'metadata': {},\n",
        " u'source': [u'# Notebooks\\n',\n",
        "  u'\\n',\n",
        "  u'* Cell-based programming makes learning easy\\n',\n",
        "  u'* Distribute content to students / colleagues easily\\n',\n",
        "  u'* Display graphics and results inline\\n',\n",
        "  u'* Supports [Markdown](http://daringfireball.net/projects/markdown/) for text styling\\n',\n",
        "  u'* Notebooks are just JSON documents!']}"
       ]
      }
     ],
     "prompt_number": 59
    },
    {
     "cell_type": "markdown",
     "metadata": {},
     "source": [
      "# Vector Arithmetic\n",
      "\n",
      "Vectors can be created by passing a python list to the `array()` function"
     ]
    },
    {
     "cell_type": "code",
     "collapsed": false,
     "input": [
      "x = array([1,2,3])\n",
      "x"
     ],
     "language": "python",
     "metadata": {},
     "outputs": [
      {
       "output_type": "pyout",
       "prompt_number": 43,
       "text": [
        "array([1, 2, 3])"
       ]
      }
     ],
     "prompt_number": 43
    },
    {
     "cell_type": "markdown",
     "metadata": {},
     "source": [
      "Vector addition is now supported via the `+` operator"
     ]
    },
    {
     "cell_type": "code",
     "collapsed": false,
     "input": [
      "y = array([1,0,1])\n",
      "x + y"
     ],
     "language": "python",
     "metadata": {},
     "outputs": [
      {
       "output_type": "pyout",
       "prompt_number": 64,
       "text": [
        "array([2, 2, 4])"
       ]
      }
     ],
     "prompt_number": 64
    },
    {
     "cell_type": "markdown",
     "metadata": {},
     "source": [
      "Standard tools from linear algebra such as Euclidean inner products and norms"
     ]
    },
    {
     "cell_type": "code",
     "collapsed": false,
     "input": [
      "x.dot(y)"
     ],
     "language": "python",
     "metadata": {},
     "outputs": [
      {
       "output_type": "pyout",
       "prompt_number": 65,
       "text": [
        "4"
       ]
      }
     ],
     "prompt_number": 65
    },
    {
     "cell_type": "code",
     "collapsed": false,
     "input": [
      "numpy.linalg.norm(x - y)"
     ],
     "language": "python",
     "metadata": {},
     "outputs": [
      {
       "output_type": "pyout",
       "prompt_number": 66,
       "text": [
        "2.8284271247461903"
       ]
      }
     ],
     "prompt_number": 66
    },
    {
     "cell_type": "markdown",
     "metadata": {},
     "source": [
      "Scipy functions are automatically applied to each element in the list:"
     ]
    },
    {
     "cell_type": "code",
     "collapsed": false,
     "input": [
      "sin(x)**2"
     ],
     "language": "python",
     "metadata": {},
     "outputs": [
      {
       "output_type": "pyout",
       "prompt_number": 36,
       "text": [
        "array([ 0.70807342,  0.82682181,  0.01991486])"
       ]
      }
     ],
     "prompt_number": 36
    },
    {
     "cell_type": "markdown",
     "metadata": {},
     "source": [
      "This includes any operation of scalar arithmetic, and extends to everyone's favorite trig identity:"
     ]
    },
    {
     "cell_type": "code",
     "collapsed": false,
     "input": [
      "sin(x)**2 + cos(x)**2"
     ],
     "language": "python",
     "metadata": {},
     "outputs": [
      {
       "output_type": "pyout",
       "prompt_number": 37,
       "text": [
        "array([ 1.,  1.,  1.])"
       ]
      }
     ],
     "prompt_number": 37
    },
    {
     "cell_type": "code",
     "collapsed": false,
     "input": [
      "y = array([2,2,2])"
     ],
     "language": "python",
     "metadata": {},
     "outputs": [],
     "prompt_number": 41
    },
    {
     "cell_type": "code",
     "collapsed": false,
     "input": [
      "x + y"
     ],
     "language": "python",
     "metadata": {},
     "outputs": [
      {
       "output_type": "pyout",
       "prompt_number": 42,
       "text": [
        "array([3, 4, 5])"
       ]
      }
     ],
     "prompt_number": 42
    },
    {
     "cell_type": "code",
     "collapsed": false,
     "input": [],
     "language": "python",
     "metadata": {},
     "outputs": []
    }
   ],
   "metadata": {}
  }
 ]
}