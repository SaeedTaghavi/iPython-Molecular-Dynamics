{
 "metadata": {
  "name": "presentation.ipynb"
 },
 "nbformat": 3,
 "nbformat_minor": 0,
 "worksheets": [
  {
   "cells": [
    {
     "cell_type": "markdown",
     "metadata": {},
     "source": [
      "Introduction to iPython\n",
      "=======================\n",
      "\n",
      "* MATLAB / *Mathematica* style interactive IDE\n",
      "* Good for prototyping / verifying new codes\n",
      "* Good for analyzing output from HPC codes\n",
      "  * Easy plots & charts\n",
      "  * Basic stats and data management capabilities"
     ]
    },
    {
     "cell_type": "code",
     "collapsed": false,
     "input": [
      "x = linspace(-10, 10., 1000)\n",
      "plot(x, sin(x))"
     ],
     "language": "python",
     "metadata": {},
     "outputs": [
      {
       "output_type": "pyout",
       "prompt_number": 100,
       "text": [
        "[<matplotlib.lines.Line2D at 0xaf36ef0>]"
       ]
      },
      {
       "output_type": "display_data",
       "png": "[encoded data removed]",
       "text": [
        "<matplotlib.figure.Figure at 0xd62bbd0>"
       ]
      }
     ],
     "prompt_number": 100
    },
    {
     "cell_type": "code",
     "collapsed": false,
     "input": [
      "bins = [n/10.0 for n in range(0,11)]\n",
      "hist(rand(100),bins);"
     ],
     "language": "python",
     "metadata": {},
     "outputs": [
      {
       "output_type": "display_data",
       "png": "[encoded data removed]",
       "text": [
        "<matplotlib.figure.Figure at 0xdbbcdb0>"
       ]
      }
     ],
     "prompt_number": 101
    },
    {
     "cell_type": "markdown",
     "metadata": {},
     "source": [
      "# Setup\n",
      "\n",
      "* All-in-one Distributions are easiest:\n",
      "    * Canopy by Enthought (Good for OS X)\n",
      "    * Linux distros, check repo for iPython"
     ]
    },
    {
     "cell_type": "markdown",
     "metadata": {},
     "source": [
      "# Notebooks\n",
      "\n",
      "* Cell-based programming makes learning easy\n",
      "* Distribute content to students / colleagues easily\n",
      "* Display graphics and results inline\n",
      "* Supports [Markdown](http://daringfireball.net/projects/markdown/) for text styling\n",
      "* Notebooks are just JSON documents!"
     ]
    },
    {
     "cell_type": "code",
     "collapsed": false,
     "input": [
      "import json\n",
      "notebook = json.load(open(\"/Users/rf9/Projects/iPython-Molecular-Dynamics/presentation.ipynb\"))\n",
      "notebook[\"worksheets\"][0][\"cells\"][4]"
     ],
     "language": "python",
     "metadata": {},
     "outputs": [
      {
       "output_type": "pyout",
       "prompt_number": 59,
       "text": [
        "{u'cell_type': u'markdown',\n",
        " u'metadata': {},\n",
        " u'source': [u'# Notebooks\\n',\n",
        "  u'\\n',\n",
        "  u'* Cell-based programming makes learning easy\\n',\n",
        "  u'* Distribute content to students / colleagues easily\\n',\n",
        "  u'* Display graphics and results inline\\n',\n",
        "  u'* Supports [Markdown](http://daringfireball.net/projects/markdown/) for text styling\\n',\n",
        "  u'* Notebooks are just JSON documents!']}"
       ]
      }
     ],
     "prompt_number": 59
    },
    {
     "cell_type": "markdown",
     "metadata": {},
     "source": [
      "# Vector Arithmetic\n",
      "\n",
      "Vectors can be created by passing a python list to the `array()` function"
     ]
    },
    {
     "cell_type": "code",
     "collapsed": false,
     "input": [
      "x = array([1,2,3])\n",
      "x"
     ],
     "language": "python",
     "metadata": {},
     "outputs": [
      {
       "output_type": "pyout",
       "prompt_number": 43,
       "text": [
        "array([1, 2, 3])"
       ]
      }
     ],
     "prompt_number": 43
    },
    {
     "cell_type": "markdown",
     "metadata": {},
     "source": [
      "Vector addition is now supported via the `+` operator"
     ]
    },
    {
     "cell_type": "code",
     "collapsed": false,
     "input": [
      "y = array([1,0,1])\n",
      "x + y"
     ],
     "language": "python",
     "metadata": {},
     "outputs": [
      {
       "output_type": "pyout",
       "prompt_number": 64,
       "text": [
        "array([2, 2, 4])"
       ]
      }
     ],
     "prompt_number": 64
    },
    {
     "cell_type": "markdown",
     "metadata": {},
     "source": [
      "Standard tools from linear algebra such as Euclidean inner products and norms"
     ]
    },
    {
     "cell_type": "code",
     "collapsed": false,
     "input": [
      "x.dot(y)"
     ],
     "language": "python",
     "metadata": {},
     "outputs": [
      {
       "output_type": "pyout",
       "prompt_number": 65,
       "text": [
        "4"
       ]
      }
     ],
     "prompt_number": 65
    },
    {
     "cell_type": "code",
     "collapsed": false,
     "input": [
      "numpy.linalg.norm(x - y)"
     ],
     "language": "python",
     "metadata": {},
     "outputs": [
      {
       "output_type": "pyout",
       "prompt_number": 66,
       "text": [
        "2.8284271247461903"
       ]
      }
     ],
     "prompt_number": 66
    },
    {
     "cell_type": "markdown",
     "metadata": {},
     "source": [
      "Scipy functions are automatically applied to each element in the list:"
     ]
    },
    {
     "cell_type": "code",
     "collapsed": false,
     "input": [
      "sin(x)**2"
     ],
     "language": "python",
     "metadata": {},
     "outputs": [
      {
       "output_type": "pyout",
       "prompt_number": 36,
       "text": [
        "array([ 0.70807342,  0.82682181,  0.01991486])"
       ]
      }
     ],
     "prompt_number": 36
    },
    {
     "cell_type": "markdown",
     "metadata": {},
     "source": [
      "This includes any operation of scalar arithmetic, and extends to everyone's favorite trig identity:"
     ]
    },
    {
     "cell_type": "code",
     "collapsed": false,
     "input": [
      "sin(x)**2 + cos(x)**2"
     ],
     "language": "python",
     "metadata": {},
     "outputs": [
      {
       "output_type": "pyout",
       "prompt_number": 37,
       "text": [
        "array([ 1.,  1.,  1.])"
       ]
      }
     ],
     "prompt_number": 37
    },
    {
     "cell_type": "markdown",
     "metadata": {},
     "source": [
      "# Example Use Case: Verifying a new MD Code\n",
      "\n",
      "* Prototyped a simple MD system in Python (available [here](https://github.com/frenchrd/iPython-Molecular-Dynamics))\n",
      "* Want to verify that output is correct\n",
      "* We can use the Pandas library to analyze the data"
     ]
    },
    {
     "cell_type": "markdown",
     "metadata": {},
     "source": [
      "## Example 1: Particle B drags Particle A\n",
      "\n",
      "* 2 particle system, simple spring potential\n",
      "* Particle A has zero initial velocity\n",
      "* Particle B has small initial velocity **along y-axis**\n",
      "* Particle B should **\"drag\"** Particle A "
     ]
    },
    {
     "cell_type": "markdown",
     "metadata": {},
     "source": [
      "### Step 1: Verify the input file"
     ]
    },
    {
     "cell_type": "code",
     "collapsed": false,
     "input": [
      "input_config = json.load(open(\"/Users/rf9/Projects/iPython-Molecular-Dynamics/ExampleInput.dragging.json\"))\n",
      "input_config[\"particles\"]"
     ],
     "language": "python",
     "metadata": {},
     "outputs": [
      {
       "output_type": "pyout",
       "prompt_number": 69,
       "text": [
        "[{u'mass': 1, u'position': [0, 0, 0], u'velocity': [0.0, 0.0, 0.0]},\n",
        " {u'mass': 1, u'position': [0, 1, 0], u'velocity': [0.0, 0.5, 0.0]}]"
       ]
      }
     ],
     "prompt_number": 69
    },
    {
     "cell_type": "markdown",
     "metadata": {},
     "source": [
      "### Step 2: Verify the structure of the output file"
     ]
    },
    {
     "cell_type": "code",
     "collapsed": false,
     "input": [
      "import pandas\n",
      "output = pandas.read_csv(\"/Users/rf9/Projects/iPython-Molecular-Dynamics/dragging_output.csv\")\n",
      "output.head()"
     ],
     "language": "python",
     "metadata": {},
     "outputs": [
      {
       "html": [
        "<div style=\"max-height:1000px;max-width:1500px;overflow:auto;\">\n",
        "<table border=\"1\" class=\"dataframe\">\n",
        "  <thead>\n",
        "    <tr style=\"text-align: right;\">\n",
        "      <th></th>\n",
        "      <th>time</th>\n",
        "      <th>x1</th>\n",
        "      <th>y1</th>\n",
        "      <th>z1</th>\n",
        "      <th>x2</th>\n",
        "      <th>y2</th>\n",
        "      <th>z2</th>\n",
        "    </tr>\n",
        "  </thead>\n",
        "  <tbody>\n",
        "    <tr>\n",
        "      <th>0</th>\n",
        "      <td> 0.00</td>\n",
        "      <td> 0</td>\n",
        "      <td> 0.000000</td>\n",
        "      <td> 0</td>\n",
        "      <td> 0</td>\n",
        "      <td> 1.000000</td>\n",
        "      <td> 0</td>\n",
        "    </tr>\n",
        "    <tr>\n",
        "      <th>1</th>\n",
        "      <td> 0.01</td>\n",
        "      <td> 0</td>\n",
        "      <td> 0.000000</td>\n",
        "      <td> 0</td>\n",
        "      <td> 0</td>\n",
        "      <td> 1.005000</td>\n",
        "      <td> 0</td>\n",
        "    </tr>\n",
        "    <tr>\n",
        "      <th>2</th>\n",
        "      <td> 0.02</td>\n",
        "      <td> 0</td>\n",
        "      <td> 0.000000</td>\n",
        "      <td> 0</td>\n",
        "      <td> 0</td>\n",
        "      <td> 1.009999</td>\n",
        "      <td> 0</td>\n",
        "    </tr>\n",
        "    <tr>\n",
        "      <th>3</th>\n",
        "      <td> 0.03</td>\n",
        "      <td> 0</td>\n",
        "      <td> 0.000002</td>\n",
        "      <td> 0</td>\n",
        "      <td> 0</td>\n",
        "      <td> 1.014998</td>\n",
        "      <td> 0</td>\n",
        "    </tr>\n",
        "    <tr>\n",
        "      <th>4</th>\n",
        "      <td> 0.04</td>\n",
        "      <td> 0</td>\n",
        "      <td> 0.000005</td>\n",
        "      <td> 0</td>\n",
        "      <td> 0</td>\n",
        "      <td> 1.019995</td>\n",
        "      <td> 0</td>\n",
        "    </tr>\n",
        "  </tbody>\n",
        "</table>\n",
        "</div>"
       ],
       "output_type": "pyout",
       "prompt_number": 74,
       "text": [
        "   time  x1        y1  z1  x2        y2  z2\n",
        "0  0.00   0  0.000000   0   0  1.000000   0\n",
        "1  0.01   0  0.000000   0   0  1.005000   0\n",
        "2  0.02   0  0.000000   0   0  1.009999   0\n",
        "3  0.03   0  0.000002   0   0  1.014998   0\n",
        "4  0.04   0  0.000005   0   0  1.019995   0"
       ]
      }
     ],
     "prompt_number": 74
    },
    {
     "cell_type": "markdown",
     "metadata": {},
     "source": [
      "### Step 3: Visualize the output data"
     ]
    },
    {
     "cell_type": "code",
     "collapsed": false,
     "input": [
      "plot(output[\"time\"],output[\"y1\"], label='Particle A')\n",
      "plot(output[\"time\"],output[\"y2\"], label='Particle B')\n",
      "legend(loc='upper left')"
     ],
     "language": "python",
     "metadata": {},
     "outputs": [
      {
       "output_type": "pyout",
       "prompt_number": 90,
       "text": [
        "<matplotlib.legend.Legend at 0xdb0ee70>"
       ]
      },
      {
       "output_type": "display_data",
       "png": "[encoded data removed]",
       "text": [
        "<matplotlib.figure.Figure at 0xd87f2f0>"
       ]
      }
     ],
     "prompt_number": 90
    },
    {
     "cell_type": "markdown",
     "metadata": {},
     "source": [
      "## Example 2: Particles Oscillate \"in place\"\n",
      "\n",
      "* 2 particle system, simple spring potential\n",
      "* Particles have same initial velocity, but in **opposite** directions\n",
      "* Particles should oscillate with **no net change** in position"
     ]
    },
    {
     "cell_type": "markdown",
     "metadata": {},
     "source": [
      "### Step 1: Verify Input data"
     ]
    },
    {
     "cell_type": "code",
     "collapsed": false,
     "input": [
      "input_config = json.load(open(\"/Users/rf9/Projects/iPython-Molecular-Dynamics/ExampleInput.oscillation.json\"))\n",
      "input_config[\"particles\"]"
     ],
     "language": "python",
     "metadata": {},
     "outputs": [
      {
       "output_type": "pyout",
       "prompt_number": 91,
       "text": [
        "[{u'mass': 1, u'position': [0, 0, 0], u'velocity': [0.0, -0.5, 0.0]},\n",
        " {u'mass': 1, u'position': [0, 1, 0], u'velocity': [0.0, 0.5, 0.0]}]"
       ]
      }
     ],
     "prompt_number": 91
    },
    {
     "cell_type": "markdown",
     "metadata": {},
     "source": [
      "### Step 2: Verify structure of output data"
     ]
    },
    {
     "cell_type": "code",
     "collapsed": false,
     "input": [
      "output = pandas.read_csv(\"/Users/rf9/Projects/iPython-Molecular-Dynamics/oscillation_output.csv\")\n",
      "output.head()"
     ],
     "language": "python",
     "metadata": {},
     "outputs": [
      {
       "html": [
        "<div style=\"max-height:1000px;max-width:1500px;overflow:auto;\">\n",
        "<table border=\"1\" class=\"dataframe\">\n",
        "  <thead>\n",
        "    <tr style=\"text-align: right;\">\n",
        "      <th></th>\n",
        "      <th>time</th>\n",
        "      <th>x1</th>\n",
        "      <th>y1</th>\n",
        "      <th>z1</th>\n",
        "      <th>x2</th>\n",
        "      <th>y2</th>\n",
        "      <th>z2</th>\n",
        "    </tr>\n",
        "  </thead>\n",
        "  <tbody>\n",
        "    <tr>\n",
        "      <th>0</th>\n",
        "      <td> 0.00</td>\n",
        "      <td> 0</td>\n",
        "      <td> 0.000000</td>\n",
        "      <td> 0</td>\n",
        "      <td> 0</td>\n",
        "      <td> 1.000000</td>\n",
        "      <td> 0</td>\n",
        "    </tr>\n",
        "    <tr>\n",
        "      <th>1</th>\n",
        "      <td> 0.01</td>\n",
        "      <td> 0</td>\n",
        "      <td>-0.005000</td>\n",
        "      <td> 0</td>\n",
        "      <td> 0</td>\n",
        "      <td> 1.005000</td>\n",
        "      <td> 0</td>\n",
        "    </tr>\n",
        "    <tr>\n",
        "      <th>2</th>\n",
        "      <td> 0.02</td>\n",
        "      <td> 0</td>\n",
        "      <td>-0.009999</td>\n",
        "      <td> 0</td>\n",
        "      <td> 0</td>\n",
        "      <td> 1.009999</td>\n",
        "      <td> 0</td>\n",
        "    </tr>\n",
        "    <tr>\n",
        "      <th>3</th>\n",
        "      <td> 0.03</td>\n",
        "      <td> 0</td>\n",
        "      <td>-0.014996</td>\n",
        "      <td> 0</td>\n",
        "      <td> 0</td>\n",
        "      <td> 1.014996</td>\n",
        "      <td> 0</td>\n",
        "    </tr>\n",
        "    <tr>\n",
        "      <th>4</th>\n",
        "      <td> 0.04</td>\n",
        "      <td> 0</td>\n",
        "      <td>-0.019990</td>\n",
        "      <td> 0</td>\n",
        "      <td> 0</td>\n",
        "      <td> 1.019990</td>\n",
        "      <td> 0</td>\n",
        "    </tr>\n",
        "  </tbody>\n",
        "</table>\n",
        "</div>"
       ],
       "output_type": "pyout",
       "prompt_number": 92,
       "text": [
        "   time  x1        y1  z1  x2        y2  z2\n",
        "0  0.00   0  0.000000   0   0  1.000000   0\n",
        "1  0.01   0 -0.005000   0   0  1.005000   0\n",
        "2  0.02   0 -0.009999   0   0  1.009999   0\n",
        "3  0.03   0 -0.014996   0   0  1.014996   0\n",
        "4  0.04   0 -0.019990   0   0  1.019990   0"
       ]
      }
     ],
     "prompt_number": 92
    },
    {
     "cell_type": "markdown",
     "metadata": {},
     "source": [
      "### Step 3: Visualize data "
     ]
    },
    {
     "cell_type": "code",
     "collapsed": false,
     "input": [
      "plot(output[\"time\"],output[\"y1\"], label='Particle A')\n",
      "plot(output[\"time\"],output[\"y2\"], label='Particle B')\n",
      "legend(loc='upper left')"
     ],
     "language": "python",
     "metadata": {},
     "outputs": [
      {
       "output_type": "pyout",
       "prompt_number": 93,
       "text": [
        "<matplotlib.legend.Legend at 0xdbcfbf0>"
       ]
      },
      {
       "output_type": "display_data",
       "png": "[encoded data removed]",
       "text": [
        "<matplotlib.figure.Figure at 0xdb07c30>"
       ]
      }
     ],
     "prompt_number": 93
    },
    {
     "cell_type": "markdown",
     "metadata": {},
     "source": [
      "### Step 4: Calculate difference between average position and initial position"
     ]
    },
    {
     "cell_type": "code",
     "collapsed": false,
     "input": [
      "mean(output[\"y1\"]) - input_config[\"particles\"][0][\"position\"][1]"
     ],
     "language": "python",
     "metadata": {},
     "outputs": [
      {
       "output_type": "pyout",
       "prompt_number": 98,
       "text": [
        "-0.025606218562874289"
       ]
      }
     ],
     "prompt_number": 98
    },
    {
     "cell_type": "code",
     "collapsed": false,
     "input": [
      "mean(output[\"y2\"]) - input_config[\"particles\"][1][\"position\"][1]"
     ],
     "language": "python",
     "metadata": {},
     "outputs": [
      {
       "output_type": "pyout",
       "prompt_number": 99,
       "text": [
        "0.025606218562873595"
       ]
      }
     ],
     "prompt_number": 99
    },
    {
     "cell_type": "code",
     "collapsed": false,
     "input": [],
     "language": "python",
     "metadata": {},
     "outputs": []
    }
   ],
   "metadata": {}
  }
 ]
}